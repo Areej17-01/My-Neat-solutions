{
 "cells": [
  {
   "cell_type": "markdown",
   "id": "92abd2ad",
   "metadata": {},
   "source": [
    "# Neat code solutions"
   ]
  },
  {
   "cell_type": "markdown",
   "id": "f559f448",
   "metadata": {},
   "source": [
    "#### Completed"
   ]
  },
  {
   "cell_type": "markdown",
   "id": "71c3aa8b",
   "metadata": {},
   "source": [
    "## contains duplicate`"
   ]
  },
  {
   "cell_type": "code",
   "execution_count": null,
   "id": "123b377c",
   "metadata": {},
   "outputs": [],
   "source": [
    "class Solution:\n",
    "    def containsDuplicate(self, nums: List[int]) -> bool:\n",
    "        len1=len(nums)\n",
    "        len2=len(set(nums))\n",
    "        if len1==len2:\n",
    "            return(False)\n",
    "        else:\n",
    "            return(True)"
   ]
  },
  {
   "cell_type": "markdown",
   "id": "b86c8793",
   "metadata": {},
   "source": [
    "## anagram"
   ]
  },
  {
   "cell_type": "code",
   "execution_count": 4,
   "id": "3749bad9",
   "metadata": {},
   "outputs": [],
   "source": [
    "dict={}\n",
    "={}\n",
    "word=\"anagram\"\n",
    "word2=\"gramana\""
   ]
  },
  {
   "cell_type": "code",
   "execution_count": 5,
   "id": "d3c6e280",
   "metadata": {},
   "outputs": [],
   "source": [
    "for i,j in zip(word:\n",
    "    if i not in dict:\n",
    "        dict[i]=1\n",
    "    else:\n",
    "        dict[i]+=1"
   ]
  },
  {
   "cell_type": "code",
   "execution_count": 6,
   "id": "9b78581c",
   "metadata": {},
   "outputs": [
    {
     "data": {
      "text/plain": [
       "{'a': 3, 'n': 1, 'g': 1, 'r': 1, 'm': 1}"
      ]
     },
     "execution_count": 6,
     "metadata": {},
     "output_type": "execute_result"
    }
   ],
   "source": [
    "dict"
   ]
  },
  {
   "cell_type": "code",
   "execution_count": 16,
   "id": "48861685",
   "metadata": {},
   "outputs": [],
   "source": [
    "def func(word,word2):\n",
    "    list1=[]\n",
    "    list2=[]\n",
    "    if len(word)==len(word2):\n",
    "        for i,j in zip(word,word2):\n",
    "            list1.append(ord(i))\n",
    "            list2.append(ord(j))\n",
    "        return(sorted(list1)==sorted(list2))\n",
    "    else:\n",
    "        return(False)"
   ]
  },
  {
   "cell_type": "code",
   "execution_count": 18,
   "id": "1d9cb913",
   "metadata": {},
   "outputs": [
    {
     "data": {
      "text/plain": [
       "False"
      ]
     },
     "execution_count": 18,
     "metadata": {},
     "output_type": "execute_result"
    }
   ],
   "source": [
    "func(\"anagrmn\",\"gramana\")"
   ]
  },
  {
   "cell_type": "code",
   "execution_count": 10,
   "id": "a27314bf",
   "metadata": {},
   "outputs": [
    {
     "data": {
      "text/plain": [
       "False"
      ]
     },
     "execution_count": 10,
     "metadata": {},
     "output_type": "execute_result"
    }
   ],
   "source": [
    "list1=[12,2,2]\n",
    "list2=[2,2,12]\n",
    "sorted(list1)!=sorted(list2)"
   ]
  },
  {
   "cell_type": "code",
   "execution_count": 27,
   "id": "a11c6193",
   "metadata": {},
   "outputs": [],
   "source": [
    "def func(s,t):\n",
    "    dict1={}\n",
    "    for i in s:\n",
    "        if i not in dict1:\n",
    "            dict1[i]=1\n",
    "        else:\n",
    "            dict1[i]+=1\n",
    "    n=0\n",
    "    for i in t:\n",
    "        if i in dict1:\n",
    "            n+=1\n",
    "    "
   ]
  },
  {
   "cell_type": "code",
   "execution_count": 26,
   "id": "98c0cbc2",
   "metadata": {},
   "outputs": [
    {
     "name": "stdout",
     "output_type": "stream",
     "text": [
      "{'a': 3, 'n': 1, 'g': 1, 'r': 1, 'm': 1} {'g': 1, 'r': 1, 'a': 3, 'm': 1, 'n': 1}\n"
     ]
    },
    {
     "data": {
      "text/plain": [
       "True"
      ]
     },
     "execution_count": 26,
     "metadata": {},
     "output_type": "execute_result"
    }
   ],
   "source": [
    "func(\"anagrma\",\"gramana\")"
   ]
  },
  {
   "cell_type": "markdown",
   "id": "fd6f0117",
   "metadata": {},
   "source": [
    "### addition of two num"
   ]
  },
  {
   "cell_type": "code",
   "execution_count": 283,
   "id": "b1f7db2d",
   "metadata": {},
   "outputs": [
    {
     "data": {
      "text/plain": [
       "[2, 7, 11, 15]"
      ]
     },
     "execution_count": 283,
     "metadata": {},
     "output_type": "execute_result"
    }
   ],
   "source": [
    "arr"
   ]
  },
  {
   "cell_type": "code",
   "execution_count": 376,
   "id": "1241ca7a",
   "metadata": {},
   "outputs": [],
   "source": [
    "def func(nums,target):\n",
    "    list=[]\n",
    "    for i,j in enumerate(nums):\n",
    "        if len(list) != 0:\n",
    "            return(list[0])\n",
    "            break;\n",
    "        else:\n",
    "            track=0\n",
    "            for k in nums[i+1:]:\n",
    "                temp=0\n",
    "                temp=j+k\n",
    "                if temp==target:\n",
    "                    list.append([i,track+1+i])\n",
    "                    break;\n",
    "               \n",
    "                track+=1\n",
    "            print(track)\n"
   ]
  },
  {
   "cell_type": "code",
   "execution_count": 381,
   "id": "43e73753",
   "metadata": {},
   "outputs": [
    {
     "name": "stdout",
     "output_type": "stream",
     "text": [
      "3\n",
      "0\n"
     ]
    },
    {
     "data": {
      "text/plain": [
       "[1, 2]"
      ]
     },
     "execution_count": 381,
     "metadata": {},
     "output_type": "execute_result"
    }
   ],
   "source": [
    "func([7,0,0,11],0)"
   ]
  },
  {
   "cell_type": "code",
   "execution_count": 38,
   "id": "0f7941b4",
   "metadata": {},
   "outputs": [],
   "source": [
    "def twoSum(nums,target):        \n",
    "    for i,j in enumerate(nums):\n",
    "        if (target-j) in nums and nums.index(target-j)!=i:\n",
    "            return[i,nums.index(target-j)]\n",
    "            break;"
   ]
  },
  {
   "cell_type": "code",
   "execution_count": 39,
   "id": "01541048",
   "metadata": {},
   "outputs": [
    {
     "data": {
      "text/plain": [
       "[0, 3]"
      ]
     },
     "execution_count": 39,
     "metadata": {},
     "output_type": "execute_result"
    }
   ],
   "source": [
    "twoSum([7,0,0,11],18)"
   ]
  },
  {
   "cell_type": "markdown",
   "id": "e26f01a9",
   "metadata": {},
   "source": [
    "# group anagrams"
   ]
  },
  {
   "cell_type": "markdown",
   "id": "1c707425",
   "metadata": {},
   "source": [
    "#### Struggles :D"
   ]
  },
  {
   "cell_type": "code",
   "execution_count": 40,
   "id": "98cbf196",
   "metadata": {},
   "outputs": [],
   "source": [
    "strs = [\"eat\",\"tea\",\"tan\",\"ate\",\"nat\",\"bat\"]"
   ]
  },
  {
   "cell_type": "code",
   "execution_count": 115,
   "id": "dc1fef37",
   "metadata": {},
   "outputs": [
    {
     "name": "stdout",
     "output_type": "stream",
     "text": [
      "0\n",
      "0\n",
      "1\n"
     ]
    }
   ],
   "source": [
    "dict={}\n",
    "list=[]\n",
    "dict1={}\n",
    "count=0\n",
    "for i in strs:\n",
    "    a=sorted(i)\n",
    "    temp=\"\".join(a)\n",
    "    if str([temp]) not in  dict:\n",
    "        dict[str([temp])]=count\n",
    "        count+=1\n",
    "    else:\n",
    "        value= dict[str([temp])]\n",
    "        print(value)\n",
    "        \n",
    "    \n",
    "    "
   ]
  },
  {
   "cell_type": "code",
   "execution_count": 97,
   "id": "f8ceadd6",
   "metadata": {},
   "outputs": [
    {
     "data": {
      "text/plain": [
       "{\"['aet']\": 0, \"['ant']\": 1, \"['abt']\": 2}"
      ]
     },
     "execution_count": 97,
     "metadata": {},
     "output_type": "execute_result"
    }
   ],
   "source": [
    "dict"
   ]
  },
  {
   "cell_type": "code",
   "execution_count": 196,
   "id": "c7ee28a8",
   "metadata": {},
   "outputs": [],
   "source": [
    "dict={}\n",
    "list=[]\n",
    "dict1={}\n",
    "count=0\n",
    "for i in strs:\n",
    "    a=sorted(i)\n",
    "    temp=\"\".join(a)\n",
    "    if [temp] not in  dict.values():\n",
    "\n",
    "        dict[count]=[temp]\n",
    "        dict1[count]=[i]\n",
    "        count+=1\n",
    "    else:\n",
    "        pass\n",
    "        \n",
    "    \n",
    "    "
   ]
  },
  {
   "cell_type": "code",
   "execution_count": 151,
   "id": "2da38b0d",
   "metadata": {},
   "outputs": [
    {
     "data": {
      "text/plain": [
       "{0: ['aet'], 1: ['ant'], 2: ['abt']}"
      ]
     },
     "execution_count": 151,
     "metadata": {},
     "output_type": "execute_result"
    }
   ],
   "source": [
    "dict"
   ]
  },
  {
   "cell_type": "code",
   "execution_count": 137,
   "id": "a1f74d5e",
   "metadata": {},
   "outputs": [
    {
     "name": "stdout",
     "output_type": "stream",
     "text": [
      "0\n",
      "0\n",
      "1\n"
     ]
    }
   ],
   "source": [
    "dict={}\n",
    "list=[]\n",
    "dict1={}\n",
    "count=0\n",
    "for i in strs:\n",
    "    a=sorted(i)\n",
    "    temp=\"\".join(a)\n",
    "    if str([temp]) not in  dict:\n",
    "        dict[str([temp])]=count\n",
    "        count+=1\n",
    "    else:\n",
    "        \n",
    "        value= dict[str([temp])]\n",
    "        print(value)\n",
    "        \n",
    "    \n",
    "    "
   ]
  },
  {
   "cell_type": "code",
   "execution_count": 138,
   "id": "c7ddad48",
   "metadata": {},
   "outputs": [
    {
     "data": {
      "text/plain": [
       "{\"['aet']\": 0, \"['ant']\": 1, \"['abt']\": 2}"
      ]
     },
     "execution_count": 138,
     "metadata": {},
     "output_type": "execute_result"
    }
   ],
   "source": [
    "dict"
   ]
  },
  {
   "cell_type": "code",
   "execution_count": 177,
   "id": "c478b93d",
   "metadata": {},
   "outputs": [],
   "source": [
    "b={\"aet\":[\"eat\"],\"['ate']\":1}"
   ]
  },
  {
   "cell_type": "code",
   "execution_count": 178,
   "id": "2b255a16",
   "metadata": {},
   "outputs": [],
   "source": [
    "b[\"aet\"].append(\"set\")"
   ]
  },
  {
   "cell_type": "code",
   "execution_count": 179,
   "id": "e7176d0a",
   "metadata": {},
   "outputs": [
    {
     "data": {
      "text/plain": [
       "{'aet': ['eat', 'set'], \"['ate']\": 1}"
      ]
     },
     "execution_count": 179,
     "metadata": {},
     "output_type": "execute_result"
    }
   ],
   "source": [
    "b"
   ]
  },
  {
   "cell_type": "markdown",
   "id": "b9e6da13",
   "metadata": {},
   "source": [
    "### final code"
   ]
  },
  {
   "cell_type": "code",
   "execution_count": 197,
   "id": "577c7ea8",
   "metadata": {},
   "outputs": [],
   "source": [
    "dict={}\n",
    "for i in strs:\n",
    "    a=sorted(i)\n",
    "    temp=\"\".join(a)\n",
    "    if temp not in  dict:\n",
    "        dict[temp]=[i]\n",
    "    else:\n",
    "         dict[temp].append(i)\n",
    "    \n",
    "    "
   ]
  },
  {
   "cell_type": "code",
   "execution_count": 200,
   "id": "d1ec6c52",
   "metadata": {},
   "outputs": [
    {
     "data": {
      "text/plain": [
       "dict_values([['eat', 'tea', 'ate'], ['tan', 'nat'], ['bat']])"
      ]
     },
     "execution_count": 200,
     "metadata": {},
     "output_type": "execute_result"
    }
   ],
   "source": [
    "dict.values()\n"
   ]
  },
  {
   "cell_type": "markdown",
   "id": "4f0e69e3",
   "metadata": {},
   "source": [
    "## Top K Frequent Elements"
   ]
  },
  {
   "cell_type": "code",
   "execution_count": 95,
   "id": "47803ff5",
   "metadata": {},
   "outputs": [],
   "source": [
    "nums=[1,1,1,2,2,3,3,3,3,3,3,3,3]\n",
    "k=2\n",
    "dict={}\n",
    "for i in nums:\n",
    "    if i not in dict:\n",
    "        dict[i]=1\n",
    "    else:\n",
    "        dict[i]+=1\n",
    "\n",
    "var=sorted(dict.items(),key=lambda x:x[1],reverse=True)\n",
    "list=[]\n",
    "for j in range(len(var)):\n",
    "    if j == k:\n",
    "        break;\n",
    "    else:\n",
    "        list.append(var[j][0])\n",
    "    "
   ]
  },
  {
   "cell_type": "code",
   "execution_count": 96,
   "id": "56afe5a8",
   "metadata": {},
   "outputs": [
    {
     "data": {
      "text/plain": [
       "[3, 1]"
      ]
     },
     "execution_count": 96,
     "metadata": {},
     "output_type": "execute_result"
    }
   ],
   "source": [
    "list"
   ]
  },
  {
   "cell_type": "code",
   "execution_count": 128,
   "id": "3dd1d4d5",
   "metadata": {},
   "outputs": [
    {
     "name": "stdout",
     "output_type": "stream",
     "text": [
      "[1, 1]\n"
     ]
    }
   ],
   "source": [
    "nums=[1,1,1,2,2,3,3,3,3,3,3,3,3]\n",
    "k=2\n",
    "if k == len(nums):\n",
    "    print( nums)\n",
    "else:\n",
    "    dict={}\n",
    "    for i in nums:\n",
    "        if i not in dict:\n",
    "            dict[i]=1\n",
    "        else:\n",
    "            dict[i]+=1\n",
    "\n",
    "    var=sorted(dict.items(),key=lambda x:x[1],reverse=True)\n",
    "    dict={}\n",
    "    for j in range(len(var)):\n",
    "        if j == k:\n",
    "            break;\n",
    "        else:\n",
    "            dict[j]=(var[j][0])\n"
   ]
  },
  {
   "cell_type": "code",
   "execution_count": 129,
   "id": "22f3dc95",
   "metadata": {},
   "outputs": [
    {
     "data": {
      "text/plain": [
       "dict_values([3, 1])"
      ]
     },
     "execution_count": 129,
     "metadata": {},
     "output_type": "execute_result"
    }
   ],
   "source": [
    "dict.values()"
   ]
  },
  {
   "cell_type": "markdown",
   "id": "d9594df4",
   "metadata": {},
   "source": [
    "Approach is to limit the dict size and remove add elements if the next big occurs "
   ]
  },
  {
   "cell_type": "code",
   "execution_count": 122,
   "id": "6eb2cd1a",
   "metadata": {},
   "outputs": [],
   "source": [
    "# nums=[1,1,1,2,2,3,3,3,3,3,3,3,3]\n",
    "# k=2\n",
    "# dict={}\n",
    "# n=0\n",
    "# for i in nums:\n",
    "    \n",
    "#     if n <= k:\n",
    "#         print(n,k)\n",
    "#         if i not in dict:\n",
    "#             dict[i]=1\n",
    "#             n+=1\n",
    "#         else:\n",
    "#             dict[i]+=1\n",
    "    \n",
    "# dict"
   ]
  },
  {
   "cell_type": "markdown",
   "id": "a7ffc4c8",
   "metadata": {},
   "source": [
    "### Product of Array Except Self"
   ]
  },
  {
   "cell_type": "markdown",
   "id": "c2a17630",
   "metadata": {},
   "source": [
    "Input: nums = [1,2,3,4]\n",
    "Output: [24,12,8,6]"
   ]
  },
  {
   "cell_type": "markdown",
   "id": "f57f2f64",
   "metadata": {},
   "source": [
    "TRY 1: memory limit exceeded"
   ]
  },
  {
   "cell_type": "code",
   "execution_count": 185,
   "id": "e46d0493",
   "metadata": {},
   "outputs": [],
   "source": [
    "import math"
   ]
  },
  {
   "cell_type": "code",
   "execution_count": 214,
   "id": "5c6625d4",
   "metadata": {},
   "outputs": [],
   "source": [
    "nums = [0,0]\n",
    "prod=1\n",
    "dict={}\n",
    "extra=nums.copy()\n",
    "for j,i in enumerate(nums):\n",
    "    extra.remove(i)\n",
    "    dict[j]=(extra)\n",
    "    extra=nums.copy()\n",
    "dict2={}\n",
    "n=0\n",
    "for i in dict.values():\n",
    "    dict2[n]=(math.prod(i))\n",
    "    n+=1\n",
    "dict2.values()"
   ]
  },
  {
   "cell_type": "code",
   "execution_count": 215,
   "id": "d1a6ca6e",
   "metadata": {},
   "outputs": [
    {
     "data": {
      "text/plain": [
       "{0: [0], 1: [0]}"
      ]
     },
     "execution_count": 215,
     "metadata": {},
     "output_type": "execute_result"
    }
   ],
   "source": [
    "dict"
   ]
  },
  {
   "cell_type": "markdown",
   "id": "e722ec17",
   "metadata": {},
   "source": [
    "###    PROPER ANSWER"
   ]
  },
  {
   "cell_type": "code",
   "execution_count": 43,
   "id": "59149d6f",
   "metadata": {},
   "outputs": [],
   "source": [
    "nums = [1,2,3,4]\n",
    "prefix=[]\n",
    "postfix=[]\n",
    "n=1\n",
    "ite=1\n",
    "ite2=1\n",
    "for i,j in  enumerate(nums):\n",
    "    ite*=j\n",
    "    ite2*=nums[len(nums)-n]\n",
    "    prefix.append(ite)\n",
    "    postfix.append(ite2)\n",
    "    n+=1\n",
    "postfix.reverse()\n",
    "final_list=[]\n",
    "for i,j in  enumerate(nums):\n",
    "    if i == 0:\n",
    "        final_list.append(postfix[i+1])\n",
    "    elif i == (len(nums)-1):\n",
    "        final_list.append(prefix[i-1])\n",
    "    else:\n",
    "        final_list.append(postfix[i+1]*prefix[i-1])\n",
    "\n",
    "        "
   ]
  },
  {
   "cell_type": "code",
   "execution_count": 44,
   "id": "0e01afd7",
   "metadata": {},
   "outputs": [
    {
     "data": {
      "text/plain": [
       "[24, 12, 8, 6]"
      ]
     },
     "execution_count": 44,
     "metadata": {},
     "output_type": "execute_result"
    }
   ],
   "source": [
    "final_list"
   ]
  },
  {
   "cell_type": "code",
   "execution_count": 25,
   "id": "3f27c2b7",
   "metadata": {},
   "outputs": [],
   "source": [
    "#peeche prefix"
   ]
  },
  {
   "cell_type": "code",
   "execution_count": 47,
   "id": "fd525746",
   "metadata": {},
   "outputs": [
    {
     "data": {
      "text/plain": [
       "[0, 0, 9, 0, 0]"
      ]
     },
     "execution_count": 47,
     "metadata": {},
     "output_type": "execute_result"
    }
   ],
   "source": [
    "nums = [-1,1,0,-3,3]\n",
    "prefix=[]\n",
    "postfix=[]\n",
    "n=1\n",
    "ite=1\n",
    "ite2=1\n",
    "for i,j in  enumerate(nums):\n",
    "    ite*=j\n",
    "    ite2*=nums[len(nums)-n]\n",
    "    prefix.append(ite)\n",
    "    postfix.append(ite2)\n",
    "    n+=1\n",
    "postfix.reverse()\n",
    "final_list=[]\n",
    "for i,j in  enumerate(nums):\n",
    "    if i == 0:\n",
    "        final_list.append(postfix[i+1])\n",
    "    elif i == (len(nums)-1):\n",
    "        final_list.append(prefix[i-1])\n",
    "    else:\n",
    "        final_list.append(postfix[i+1]*prefix[i-1])\n",
    "\n",
    "final_list     "
   ]
  },
  {
   "cell_type": "code",
   "execution_count": null,
   "id": "bbfb3fe2",
   "metadata": {},
   "outputs": [],
   "source": []
  },
  {
   "cell_type": "code",
   "execution_count": 57,
   "id": "8a09df56",
   "metadata": {},
   "outputs": [],
   "source": [
    "nums = [1,2,3,4]\n",
    "\n",
    "postfix=[]\n",
    "n=1\n",
    "ite=1\n",
    "ite2=1\n",
    "for i,j in  enumerate(nums):\n",
    "    \n",
    "    ite2*=nums[len(nums)-n]\n",
    "    postfix.append(ite2)\n",
    "    n+=1\n",
    "\n"
   ]
  },
  {
   "cell_type": "code",
   "execution_count": 58,
   "id": "07d22d82",
   "metadata": {},
   "outputs": [
    {
     "data": {
      "text/plain": [
       "[4, 12, 24, 24]"
      ]
     },
     "execution_count": 58,
     "metadata": {},
     "output_type": "execute_result"
    }
   ],
   "source": [
    "postfix#,ite*=j"
   ]
  },
  {
   "cell_type": "code",
   "execution_count": 59,
   "id": "6ddbe3ea",
   "metadata": {},
   "outputs": [
    {
     "data": {
      "text/plain": [
       "[24, 24, 12, 4]"
      ]
     },
     "execution_count": 59,
     "metadata": {},
     "output_type": "execute_result"
    }
   ],
   "source": [
    "postfix.reverse()\n",
    "postfix"
   ]
  },
  {
   "cell_type": "code",
   "execution_count": 60,
   "id": "6bda56c2",
   "metadata": {},
   "outputs": [
    {
     "data": {
      "text/plain": [
       "[1, 2, 6, 24]"
      ]
     },
     "execution_count": 60,
     "metadata": {},
     "output_type": "execute_result"
    }
   ],
   "source": [
    "prefix"
   ]
  },
  {
   "cell_type": "code",
   "execution_count": 70,
   "id": "95a5bad5",
   "metadata": {},
   "outputs": [
    {
     "name": "stdout",
     "output_type": "stream",
     "text": [
      "0\n"
     ]
    }
   ],
   "source": [
    "nums = [-1,1,0,-3,3]\n",
    "postfix=[]\n",
    "n=1\n",
    "ite2=1\n",
    "for i,j in  enumerate(nums):\n",
    "    \n",
    "    ite2*=nums[len(nums)-n]\n",
    "    postfix.append(ite2)\n",
    "    n+=1\n",
    "postfix.reverse()\n",
    "final_list=[]\n",
    "ite=1\n",
    "for i,j in  enumerate(nums):\n",
    "    if i == 0:\n",
    "        final_list.append(postfix[i+1])\n",
    "    elif i == (len(nums)-1):\n",
    "        final_list.append(ite)\n",
    "    else:\n",
    "        final_list.append(postfix[i+1]*ite)\n",
    "    ite*=j\n"
   ]
  },
  {
   "cell_type": "code",
   "execution_count": 71,
   "id": "a0c74ac0",
   "metadata": {},
   "outputs": [
    {
     "data": {
      "text/plain": [
       "[0, 0, 9, 0, 0]"
      ]
     },
     "execution_count": 71,
     "metadata": {},
     "output_type": "execute_result"
    }
   ],
   "source": [
    "final_list"
   ]
  },
  {
   "cell_type": "markdown",
   "id": "3f0861d7",
   "metadata": {},
   "source": [
    "## VALID SUDOKU"
   ]
  },
  {
   "cell_type": "code",
   "execution_count": 68,
   "id": "fd407137",
   "metadata": {},
   "outputs": [],
   "source": [
    "sudoku=[[\"5\",\"3\",\".\",\".\",\"7\",\".\",\".\",\".\",\".\"]\n",
    ",[\"6\",\".\",\".\",\"1\",\"9\",\"5\",\".\",\".\",\".\"]\n",
    ",[\".\",\"9\",\"8\",\".\",\".\",\".\",\".\",\"6\",\".\"]\n",
    ",[\"8\",\".\",\".\",\".\",\"6\",\".\",\".\",\".\",\"3\"]\n",
    ",[\"4\",\".\",\".\",\"8\",\".\",\"3\",\".\",\".\",\"1\"]\n",
    ",[\"7\",\".\",\".\",\".\",\"2\",\".\",\".\",\".\",\"6\"]\n",
    ",[\".\",\"6\",\".\",\".\",\".\",\".\",\"2\",\"8\",\".\"]\n",
    ",[\".\",\".\",\".\",\"4\",\"1\",\"9\",\".\",\".\",\"5\"]\n",
    ",[\".\",\".\",\".\",\".\",\"8\",\".\",\".\",\"7\",\"9\"]]"
   ]
  },
  {
   "cell_type": "code",
   "execution_count": 69,
   "id": "772f4d1b",
   "metadata": {},
   "outputs": [
    {
     "data": {
      "text/plain": [
       "[(['5', '3', '.', '.', '7', '.', '.', '.', '.'],),\n",
       " (['6', '.', '.', '1', '9', '5', '.', '.', '.'],),\n",
       " (['.', '9', '8', '.', '.', '.', '.', '6', '.'],),\n",
       " (['8', '.', '.', '.', '6', '.', '.', '.', '3'],),\n",
       " (['4', '.', '.', '8', '.', '3', '.', '.', '1'],),\n",
       " (['7', '.', '.', '.', '2', '.', '.', '.', '6'],),\n",
       " (['.', '6', '.', '.', '.', '.', '2', '8', '.'],),\n",
       " (['.', '.', '.', '4', '1', '9', '.', '.', '5'],),\n",
       " (['.', '.', '.', '.', '8', '.', '.', '7', '9'],)]"
      ]
     },
     "execution_count": 69,
     "metadata": {},
     "output_type": "execute_result"
    }
   ],
   "source": [
    "list(zip(sudoku))"
   ]
  },
  {
   "cell_type": "code",
   "execution_count": 70,
   "id": "c075720b",
   "metadata": {},
   "outputs": [],
   "source": [
    "# for i in range(9):\n",
    "#     arr=[]\n",
    "#     for j in sudoku:\n",
    "#         if j[i] !=\".\":\n",
    "#             arr.append(j[i])\n",
    "#     print(arr)\n",
    "        "
   ]
  },
  {
   "cell_type": "markdown",
   "id": "88874450",
   "metadata": {},
   "source": [
    "#### for rows and columns"
   ]
  },
  {
   "cell_type": "code",
   "execution_count": 71,
   "id": "e756bd79",
   "metadata": {},
   "outputs": [],
   "source": [
    "def valid(sudoku):\n",
    "    for i,j in zip(sudoku,range(9)):\n",
    "        ar=[]\n",
    "        arr=[]\n",
    "        for k,l in zip(i,sudoku):  \n",
    "            if k != \".\":\n",
    "                ar.append(k)\n",
    "            if l[j] != \".\":\n",
    "                arr.append(l[j])\n",
    "        if len(ar)!=len(set(ar)):\n",
    "            print(False)\n",
    "            break;\n",
    "        if len(arr)!=len(set(arr)):\n",
    "            print(False)\n",
    "            break;\n",
    "        return True\n",
    "\n",
    "    "
   ]
  },
  {
   "cell_type": "code",
   "execution_count": 72,
   "id": "df0ded0c",
   "metadata": {},
   "outputs": [
    {
     "data": {
      "text/plain": [
       "True"
      ]
     },
     "execution_count": 72,
     "metadata": {},
     "output_type": "execute_result"
    }
   ],
   "source": [
    "valid(sudoku)"
   ]
  },
  {
   "cell_type": "markdown",
   "id": "7e752251",
   "metadata": {},
   "source": [
    "#### for 3x3 part"
   ]
  },
  {
   "cell_type": "code",
   "execution_count": 86,
   "id": "7c76a255",
   "metadata": {},
   "outputs": [],
   "source": [
    "ite=1\n",
    "array=[]\n",
    "temp=[]\n",
    "num=0\n",
    "for i in [3,6,9]:\n",
    "    for j in sudoku:\n",
    "        if ite%3==0:\n",
    "            temp.extend(j[num:i])\n",
    "            array.append(temp)\n",
    "            temp=[]\n",
    "        else:\n",
    "            temp.extend(j[num:i])\n",
    "        ite+=1\n",
    "    num=i"
   ]
  },
  {
   "cell_type": "code",
   "execution_count": 85,
   "id": "ddf41f96",
   "metadata": {},
   "outputs": [
    {
     "data": {
      "text/plain": [
       "[['5', '3', '.', '6', '.', '.', '.', '9', '8'],\n",
       " ['8', '.', '.', '4', '.', '.', '7', '.', '.'],\n",
       " ['.', '6', '.', '.', '.', '.', '.', '.', '.'],\n",
       " ['.', '7', '.', '1', '9', '5', '.', '.', '.'],\n",
       " ['.', '6', '.', '8', '.', '3', '.', '2', '.'],\n",
       " ['.', '.', '.', '4', '1', '9', '.', '8', '.'],\n",
       " ['.', '.', '.', '.', '.', '.', '.', '6', '.'],\n",
       " ['.', '.', '3', '.', '.', '1', '.', '.', '6'],\n",
       " ['2', '8', '.', '.', '.', '5', '.', '7', '9']]"
      ]
     },
     "execution_count": 85,
     "metadata": {},
     "output_type": "execute_result"
    }
   ],
   "source": [
    "array"
   ]
  },
  {
   "cell_type": "markdown",
   "id": "8dcd4100",
   "metadata": {},
   "source": [
    "#### full solve"
   ]
  },
  {
   "cell_type": "code",
   "execution_count": 99,
   "id": "3f694e56",
   "metadata": {},
   "outputs": [],
   "source": [
    "sudoku=[[\"5\",\"3\",\".\",\".\",\"7\",\".\",\".\",\".\",\".\"]\n",
    ",[\"6\",\".\",\".\",\"1\",\"9\",\"5\",\".\",\".\",\".\"]\n",
    ",[\".\",\"9\",\"8\",\".\",\".\",\".\",\".\",\"6\",\".\"]\n",
    ",[\"8\",\".\",\".\",\".\",\"6\",\".\",\".\",\".\",\"3\"]\n",
    ",[\"4\",\".\",\".\",\"8\",\".\",\"3\",\".\",\".\",\"1\"]\n",
    ",[\"7\",\".\",\".\",\".\",\"2\",\".\",\".\",\".\",\"6\"]\n",
    ",[\".\",\"6\",\".\",\".\",\".\",\".\",\"2\",\"8\",\".\"]\n",
    ",[\".\",\".\",\".\",\"4\",\"1\",\"9\",\".\",\".\",\"5\"]\n",
    ",[\".\",\".\",\".\",\".\",\"8\",\".\",\".\",\"7\",\"9\"]]"
   ]
  },
  {
   "cell_type": "code",
   "execution_count": 100,
   "id": "87c9788f",
   "metadata": {},
   "outputs": [],
   "source": [
    "def valid(board):\n",
    "    ite=1\n",
    "    array=[]\n",
    "    temp=[]\n",
    "    num=0\n",
    "    for i in [3,6,9]:\n",
    "        for j in board:\n",
    "            if ite%3==0:\n",
    "                temp.extend(j[num:i])\n",
    "                array.append(temp)\n",
    "                temp=[]\n",
    "            else:\n",
    "                temp.extend(j[num:i])\n",
    "            ite+=1\n",
    "        num=i\n",
    "    for i,j,three in zip(board,range(9),array):\n",
    "            ar=[]\n",
    "            arr=[]\n",
    "            temp=[]\n",
    "            for k,l,sec_three in zip(i,board,three):  \n",
    "                if k != \".\":\n",
    "                    ar.append(k)\n",
    "                if l[j] != \".\":\n",
    "                    arr.append(l[j])\n",
    "                if sec_three != \".\":\n",
    "                    temp.append(sec_three)\n",
    "            if len(ar)!=len(set(ar)):\n",
    "                return(False)\n",
    "                break;\n",
    "            if len(arr)!=len(set(arr)):\n",
    "                return(False)\n",
    "                break;\n",
    "            if len(temp)!=len(set(temp)):\n",
    "                return(False)\n",
    "                break;\n",
    "    return(True)"
   ]
  },
  {
   "cell_type": "code",
   "execution_count": 101,
   "id": "ffc16d42",
   "metadata": {},
   "outputs": [
    {
     "data": {
      "text/plain": [
       "True"
      ]
     },
     "execution_count": 101,
     "metadata": {},
     "output_type": "execute_result"
    }
   ],
   "source": [
    "valid(sudoku)"
   ]
  },
  {
   "cell_type": "code",
   "execution_count": 107,
   "id": "6cf057dc",
   "metadata": {},
   "outputs": [
    {
     "data": {
      "text/plain": [
       "1"
      ]
     },
     "execution_count": 107,
     "metadata": {},
     "output_type": "execute_result"
    }
   ],
   "source": [
    "5//3"
   ]
  },
  {
   "cell_type": "markdown",
   "id": "98b2bd39",
   "metadata": {},
   "source": [
    "### by leat video solve "
   ]
  },
  {
   "cell_type": "code",
   "execution_count": 114,
   "id": "4fb93cbb",
   "metadata": {},
   "outputs": [
    {
     "name": "stdout",
     "output_type": "stream",
     "text": [
      "0\n",
      "['5', '3', '.']\n",
      "0\n",
      "['5', '3', '.']\n",
      "0\n",
      "['5', '3', '.']\n",
      "1\n",
      "['6', '.', '.']\n",
      "1\n",
      "['6', '.', '.']\n",
      "1\n",
      "['6', '.', '.']\n",
      "2\n",
      "['.', '9', '8']\n",
      "2\n",
      "['.', '9', '8']\n",
      "2\n",
      "['.', '9', '8']\n"
     ]
    }
   ],
   "source": [
    "for i in range(9):\n",
    "    print(i//3)\n",
    "    print(sudoku[i//3][:3])"
   ]
  },
  {
   "cell_type": "code",
   "execution_count": 116,
   "id": "45255aa4",
   "metadata": {},
   "outputs": [
    {
     "data": {
      "text/plain": [
       "[['5', '3', '.', '.', '7', '.', '.', '.', '.'],\n",
       " ['6', '.', '.', '1', '9', '5', '.', '.', '.'],\n",
       " ['.', '9', '8', '.', '.', '.', '.', '6', '.'],\n",
       " ['8', '.', '.', '.', '6', '.', '.', '.', '3'],\n",
       " ['4', '.', '.', '8', '.', '3', '.', '.', '1'],\n",
       " ['7', '.', '.', '.', '2', '.', '.', '.', '6'],\n",
       " ['.', '6', '.', '.', '.', '.', '2', '8', '.'],\n",
       " ['.', '.', '.', '4', '1', '9', '.', '.', '5'],\n",
       " ['.', '.', '.', '.', '8', '.', '.', '7', '9']]"
      ]
     },
     "execution_count": 116,
     "metadata": {},
     "output_type": "execute_result"
    }
   ],
   "source": [
    "sudoku\n",
    "#on pause"
   ]
  },
  {
   "cell_type": "markdown",
   "id": "36d13e99",
   "metadata": {},
   "source": [
    "## Longest Consecutive Sequence"
   ]
  },
  {
   "cell_type": "code",
   "execution_count": 250,
   "id": "9df2317c",
   "metadata": {},
   "outputs": [],
   "source": [
    "#nums = [0,3,7,2,5,8,4,6,0,1,56,55,54,53,56,57,58,59,60,61,62,63,10,12,11,13]\n",
    "#nums= [100,4,200,1,3,2]\n",
    "nums = [0,3,7,2,5,8,4,6,0,1]"
   ]
  },
  {
   "cell_type": "code",
   "execution_count": 251,
   "id": "ee4c3444",
   "metadata": {},
   "outputs": [],
   "source": [
    "nums.sort()"
   ]
  },
  {
   "cell_type": "code",
   "execution_count": 252,
   "id": "0d0df797",
   "metadata": {},
   "outputs": [
    {
     "data": {
      "text/plain": [
       "[0, 0, 1, 2, 3, 4, 5, 6, 7, 8]"
      ]
     },
     "execution_count": 252,
     "metadata": {},
     "output_type": "execute_result"
    }
   ],
   "source": [
    "nums"
   ]
  },
  {
   "cell_type": "code",
   "execution_count": 253,
   "id": "ca39f07b",
   "metadata": {},
   "outputs": [
    {
     "data": {
      "text/plain": [
       "10"
      ]
     },
     "execution_count": 253,
     "metadata": {},
     "output_type": "execute_result"
    }
   ],
   "source": [
    "len(nums)"
   ]
  },
  {
   "cell_type": "code",
   "execution_count": 254,
   "id": "ae50aeff",
   "metadata": {},
   "outputs": [
    {
     "name": "stdout",
     "output_type": "stream",
     "text": [
      "9\n"
     ]
    }
   ],
   "source": [
    "k=0\n",
    "n=0\n",
    "arr=[]\n",
    "for i,j in enumerate(nums):\n",
    "    dif=j-k\n",
    "    if i !=0 :\n",
    "        if dif ==1:\n",
    "            n+=1\n",
    "        else:\n",
    "            arr.append(n)\n",
    "            n=0\n",
    "            n+=1\n",
    "    if i == (len(nums)-1):\n",
    "            print(i)\n",
    "            arr.append(n)\n",
    "    k=j"
   ]
  },
  {
   "cell_type": "code",
   "execution_count": 437,
   "id": "88c99cf4",
   "metadata": {},
   "outputs": [],
   "source": [
    "nums = [0,3,7,2,5,8,4,6,0,1,56,55,54,53,56,57,58,59,60,61,62,63,10,12,11,13]\n",
    "#nums= [100,4,200,1,3,2]\n",
    "#nums = [0,3,7,2,5,8,4,6,0,1]\n",
    "#nums=[9,1,-3,2,4,8,3,-1,6,-2,-4,7]"
   ]
  },
  {
   "cell_type": "code",
   "execution_count": 451,
   "id": "89824c60",
   "metadata": {},
   "outputs": [],
   "source": [
    "nums=set(nums)\n",
    "nums=list(nums)\n",
    "nums.sort()\n"
   ]
  },
  {
   "cell_type": "code",
   "execution_count": 450,
   "id": "0ad62d54",
   "metadata": {},
   "outputs": [],
   "source": [
    "nums=[2,-7,-6,0,4,2,-7,2,2,4,2,-9,2,-4,7,7,-8,6,7,-2,-6,9,3,3,5]"
   ]
  },
  {
   "cell_type": "code",
   "execution_count": 455,
   "id": "3357983e",
   "metadata": {},
   "outputs": [
    {
     "data": {
      "text/plain": [
       "[-9, -8, -7, -6, -4, -2, 0, 2, 3, 4, 5, 6, 7, 9]"
      ]
     },
     "execution_count": 455,
     "metadata": {},
     "output_type": "execute_result"
    }
   ],
   "source": [
    "nums"
   ]
  },
  {
   "cell_type": "code",
   "execution_count": 479,
   "id": "3f2274f9",
   "metadata": {},
   "outputs": [
    {
     "name": "stdout",
     "output_type": "stream",
     "text": [
      "2\n"
     ]
    }
   ],
   "source": [
    "\n",
    "k=0\n",
    "n=0\n",
    "arr=[]\n",
    "for i,j in enumerate(nums):\n",
    "    dif=abs(j-k)\n",
    "   \n",
    "    if i ==0:\n",
    "        #print(\"value of k\" ,k)\n",
    "        if len(nums)==1:\n",
    "            arr.append(1)\n",
    "        else:\n",
    "            n+=1    \n",
    "    elif i == (len(nums)-1):\n",
    "        print(dif)\n",
    "        if dif ==1 or dif==0:\n",
    "            #print(dif)\n",
    "            n+=1\n",
    "            arr.append(n)\n",
    "        else:\n",
    "            arr.append(n)\n",
    "    else:\n",
    "        #print(dif)\n",
    "        if dif ==1 or dif==0:\n",
    "            #print(n)\n",
    "            n+=1\n",
    "        else:\n",
    "            arr.append(n)\n",
    "            n=0\n",
    "            n+=1\n",
    "    k=j"
   ]
  },
  {
   "cell_type": "code",
   "execution_count": 480,
   "id": "d86a0008",
   "metadata": {},
   "outputs": [
    {
     "data": {
      "text/plain": [
       "[-9, -8, -7, -6, -4, -2, 0, 2, 3, 4, 5, 6, 7, 9]"
      ]
     },
     "execution_count": 480,
     "metadata": {},
     "output_type": "execute_result"
    }
   ],
   "source": [
    "nums"
   ]
  },
  {
   "cell_type": "code",
   "execution_count": 481,
   "id": "ce773915",
   "metadata": {},
   "outputs": [
    {
     "data": {
      "text/plain": [
       "6"
      ]
     },
     "execution_count": 481,
     "metadata": {},
     "output_type": "execute_result"
    }
   ],
   "source": [
    "max(arr)"
   ]
  },
  {
   "cell_type": "code",
   "execution_count": 482,
   "id": "df84c85c",
   "metadata": {},
   "outputs": [
    {
     "data": {
      "text/plain": [
       "[4, 1, 1, 1, 6]"
      ]
     },
     "execution_count": 482,
     "metadata": {},
     "output_type": "execute_result"
    }
   ],
   "source": [
    "arr"
   ]
  },
  {
   "cell_type": "code",
   "execution_count": null,
   "id": "add0d924",
   "metadata": {},
   "outputs": [],
   "source": [
    "\n",
    "k=0\n",
    "n=0\n",
    "arr=[]\n",
    "for i,j in enumerate(nums):\n",
    "    dif=abs(j-k)\n",
    "   \n",
    "    if i ==0:\n",
    "        #print(\"value of k\" ,k)\n",
    "        if len(nums)==1:\n",
    "            arr.append(1)\n",
    "        else:\n",
    "            n+=1    \n",
    "    elif i == (len(nums)-1):\n",
    "        print(dif)\n",
    "        if dif ==1 or dif==0:\n",
    "            #print(dif)\n",
    "            n+=1\n",
    "            arr.append(n)\n",
    "        else:\n",
    "            arr.append(n)\n",
    "    else:\n",
    "        #print(dif)\n",
    "        if dif ==1 or dif==0:\n",
    "            #print(n)\n",
    "            n+=1\n",
    "        else:\n",
    "            arr.append(n)\n",
    "            n=0\n",
    "            n+=1\n",
    "    k=j"
   ]
  }
 ],
 "metadata": {
  "kernelspec": {
   "display_name": "Python 3 (ipykernel)",
   "language": "python",
   "name": "python3"
  },
  "language_info": {
   "codemirror_mode": {
    "name": "ipython",
    "version": 3
   },
   "file_extension": ".py",
   "mimetype": "text/x-python",
   "name": "python",
   "nbconvert_exporter": "python",
   "pygments_lexer": "ipython3",
   "version": "3.9.12"
  }
 },
 "nbformat": 4,
 "nbformat_minor": 5
}
