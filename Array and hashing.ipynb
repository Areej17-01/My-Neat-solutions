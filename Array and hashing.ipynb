{
 "cells": [
  {
   "cell_type": "markdown",
   "id": "3b210dff",
   "metadata": {},
   "source": [
    "# anagram"
   ]
  },
  {
   "cell_type": "code",
   "execution_count": 4,
   "id": "87a969c2",
   "metadata": {},
   "outputs": [],
   "source": [
    "dict={}\n",
    "={}\n",
    "word=\"anagram\"\n",
    "word2=\"gramana\""
   ]
  },
  {
   "cell_type": "code",
   "execution_count": 5,
   "id": "8543a467",
   "metadata": {},
   "outputs": [],
   "source": [
    "for i,j in zip(word:\n",
    "    if i not in dict:\n",
    "        dict[i]=1\n",
    "    else:\n",
    "        dict[i]+=1"
   ]
  },
  {
   "cell_type": "code",
   "execution_count": 6,
   "id": "c3ecf803",
   "metadata": {},
   "outputs": [
    {
     "data": {
      "text/plain": [
       "{'a': 3, 'n': 1, 'g': 1, 'r': 1, 'm': 1}"
      ]
     },
     "execution_count": 6,
     "metadata": {},
     "output_type": "execute_result"
    }
   ],
   "source": [
    "dict"
   ]
  },
  {
   "cell_type": "code",
   "execution_count": 16,
   "id": "14c23a81",
   "metadata": {},
   "outputs": [],
   "source": [
    "def func(word,word2):\n",
    "    list1=[]\n",
    "    list2=[]\n",
    "    if len(word)==len(word2):\n",
    "        for i,j in zip(word,word2):\n",
    "            list1.append(ord(i))\n",
    "            list2.append(ord(j))\n",
    "        return(sorted(list1)==sorted(list2))\n",
    "    else:\n",
    "        return(False)"
   ]
  },
  {
   "cell_type": "code",
   "execution_count": 18,
   "id": "02269510",
   "metadata": {},
   "outputs": [
    {
     "data": {
      "text/plain": [
       "False"
      ]
     },
     "execution_count": 18,
     "metadata": {},
     "output_type": "execute_result"
    }
   ],
   "source": [
    "func(\"anagrmn\",\"gramana\")"
   ]
  },
  {
   "cell_type": "code",
   "execution_count": 10,
   "id": "a328b1c1",
   "metadata": {},
   "outputs": [
    {
     "data": {
      "text/plain": [
       "False"
      ]
     },
     "execution_count": 10,
     "metadata": {},
     "output_type": "execute_result"
    }
   ],
   "source": [
    "list1=[12,2,2]\n",
    "list2=[2,2,12]\n",
    "sorted(list1)!=sorted(list2)"
   ]
  },
  {
   "cell_type": "code",
   "execution_count": 27,
   "id": "1bdd7e8c",
   "metadata": {},
   "outputs": [],
   "source": [
    "def func(s,t):\n",
    "    dict1={}\n",
    "    for i in s:\n",
    "        if i not in dict1:\n",
    "            dict1[i]=1\n",
    "        else:\n",
    "            dict1[i]+=1\n",
    "    n=0\n",
    "    for i in t:\n",
    "        if i in dict1:\n",
    "            n+=1\n",
    "    "
   ]
  },
  {
   "cell_type": "code",
   "execution_count": 26,
   "id": "035e9ae1",
   "metadata": {},
   "outputs": [
    {
     "name": "stdout",
     "output_type": "stream",
     "text": [
      "{'a': 3, 'n': 1, 'g': 1, 'r': 1, 'm': 1} {'g': 1, 'r': 1, 'a': 3, 'm': 1, 'n': 1}\n"
     ]
    },
    {
     "data": {
      "text/plain": [
       "True"
      ]
     },
     "execution_count": 26,
     "metadata": {},
     "output_type": "execute_result"
    }
   ],
   "source": [
    "func(\"anagrma\",\"gramana\")"
   ]
  },
  {
   "cell_type": "markdown",
   "id": "6c10b775",
   "metadata": {},
   "source": [
    "### addition of two num"
   ]
  },
  {
   "cell_type": "code",
   "execution_count": 283,
   "id": "9013517e",
   "metadata": {},
   "outputs": [
    {
     "data": {
      "text/plain": [
       "[2, 7, 11, 15]"
      ]
     },
     "execution_count": 283,
     "metadata": {},
     "output_type": "execute_result"
    }
   ],
   "source": [
    "arr"
   ]
  },
  {
   "cell_type": "code",
   "execution_count": 376,
   "id": "5ad023b8",
   "metadata": {},
   "outputs": [],
   "source": [
    "def func(nums,target):\n",
    "    list=[]\n",
    "    for i,j in enumerate(nums):\n",
    "        if len(list) != 0:\n",
    "            return(list[0])\n",
    "            break;\n",
    "        else:\n",
    "            track=0\n",
    "            for k in nums[i+1:]:\n",
    "                temp=0\n",
    "                temp=j+k\n",
    "                if temp==target:\n",
    "                    list.append([i,track+1+i])\n",
    "                    break;\n",
    "               \n",
    "                track+=1\n",
    "            print(track)\n"
   ]
  },
  {
   "cell_type": "code",
   "execution_count": 381,
   "id": "7edde18d",
   "metadata": {},
   "outputs": [
    {
     "name": "stdout",
     "output_type": "stream",
     "text": [
      "3\n",
      "0\n"
     ]
    },
    {
     "data": {
      "text/plain": [
       "[1, 2]"
      ]
     },
     "execution_count": 381,
     "metadata": {},
     "output_type": "execute_result"
    }
   ],
   "source": [
    "func([7,0,0,11],0)"
   ]
  },
  {
   "cell_type": "code",
   "execution_count": 387,
   "id": "cdd2dbf7",
   "metadata": {},
   "outputs": [],
   "source": []
  }
 ],
 "metadata": {
  "kernelspec": {
   "display_name": "Python 3 (ipykernel)",
   "language": "python",
   "name": "python3"
  },
  "language_info": {
   "codemirror_mode": {
    "name": "ipython",
    "version": 3
   },
   "file_extension": ".py",
   "mimetype": "text/x-python",
   "name": "python",
   "nbconvert_exporter": "python",
   "pygments_lexer": "ipython3",
   "version": "3.9.12"
  }
 },
 "nbformat": 4,
 "nbformat_minor": 5
}
