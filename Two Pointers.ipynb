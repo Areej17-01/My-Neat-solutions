{
 "cells": [
  {
   "cell_type": "markdown",
   "id": "a83739b8",
   "metadata": {},
   "source": [
    "#### 125. Valid Palindrome"
   ]
  },
  {
   "cell_type": "code",
   "execution_count": 56,
   "id": "45408240",
   "metadata": {},
   "outputs": [],
   "source": [
    "s = \"A man, a plan, a canal: Panama\""
   ]
  },
  {
   "cell_type": "code",
   "execution_count": 51,
   "id": "e9e42bab",
   "metadata": {},
   "outputs": [
    {
     "data": {
      "text/plain": [
       "True"
      ]
     },
     "execution_count": 51,
     "metadata": {},
     "output_type": "execute_result"
    }
   ],
   "source": [
    "s=s.lower()\n",
    "string=\"\"\n",
    "r_str=\"\"\n",
    "for i,j in zip(s,s[::-1]):\n",
    "    if (ord(i)<=122 and ord(i)>=97) or (ord(i)<=57 and ord(i)>=48):\n",
    "        string+=i\n",
    "    if (ord(j)<=122 and ord(j)>=97) or (ord(j)<=57 and ord(j)>=48):\n",
    "        r_str+=j\n",
    "string==r_str"
   ]
  },
  {
   "cell_type": "code",
   "execution_count": 52,
   "id": "4f0f2b63",
   "metadata": {},
   "outputs": [
    {
     "data": {
      "text/plain": [
       "('0amanaplanacanalpanama0', '0amanaplanacanalpanama0')"
      ]
     },
     "execution_count": 52,
     "metadata": {},
     "output_type": "execute_result"
    }
   ],
   "source": [
    "string,r_str"
   ]
  },
  {
   "cell_type": "markdown",
   "id": "7bf3b87f",
   "metadata": {},
   "source": [
    "#### second"
   ]
  },
  {
   "cell_type": "code",
   "execution_count": 70,
   "id": "f8975169",
   "metadata": {},
   "outputs": [],
   "source": [
    "string=\"\""
   ]
  },
  {
   "cell_type": "code",
   "execution_count": 77,
   "id": "ff96df99",
   "metadata": {},
   "outputs": [],
   "source": [
    "s=\"areej\"\n",
    "for i in s:\n",
    "    if ((ord(i)<=122 and ord(i)>=97) or (ord(i)<=57 and ord(i)>=48)):\n",
    "        string+=i"
   ]
  },
  {
   "cell_type": "code",
   "execution_count": 78,
   "id": "1607fb0b",
   "metadata": {},
   "outputs": [
    {
     "name": "stdout",
     "output_type": "stream",
     "text": [
      "False\n"
     ]
    }
   ],
   "source": [
    "s=\"areej\"\n",
    "for i in s:\n",
    "    if ((ord(i)<=122 and ord(i)>=97) or (ord(i)<=57 and ord(i)>=48)):\n",
    "        string+=i\n",
    "for i ,j in zip(string,string[::-1]):\n",
    "    if i != j:\n",
    "        return(False)\n",
    "        break\n",
    "return(True)"
   ]
  },
  {
   "cell_type": "markdown",
   "id": "e91b70bc",
   "metadata": {},
   "source": [
    "### third"
   ]
  },
  {
   "cell_type": "code",
   "execution_count": 84,
   "id": "fa1d36a4",
   "metadata": {},
   "outputs": [
    {
     "name": "stdout",
     "output_type": "stream",
     "text": [
      "a\n",
      "m\n",
      "a\n",
      "n\n",
      "a\n",
      "p\n",
      "l\n",
      "a\n",
      "n\n",
      "a\n",
      "c\n",
      "a\n",
      "n\n",
      "a\n",
      "l\n",
      "p\n",
      "a\n",
      "n\n",
      "a\n",
      "m\n",
      "a\n"
     ]
    },
    {
     "data": {
      "text/plain": [
       "True"
      ]
     },
     "execution_count": 84,
     "metadata": {},
     "output_type": "execute_result"
    }
   ],
   "source": [
    "s = \"A man, a plan, a canal: Panama\"\n",
    "s=s.lower()\n",
    "string=\"\"\n",
    "r_str=\"\"\n",
    "\n",
    "for i,j in zip(s,s[::-1]):\n",
    "    if (ord(i)<=122 and ord(i)>=97) or (ord(i)<=57 and ord(i)>=48):\n",
    "        string+=i\n",
    "    if (ord(j)<=122 and ord(j)>=97) or (ord(j)<=57 and ord(j)>=48):\n",
    "        r_str+=j\n",
    "        print(j)\n",
    "    else:\n",
    "        if string != r_str:\n",
    "            pass\n",
    "string==r_str"
   ]
  },
  {
   "cell_type": "code",
   "execution_count": 80,
   "id": "ae4250d0",
   "metadata": {},
   "outputs": [
    {
     "data": {
      "text/plain": [
       "'areej'"
      ]
     },
     "execution_count": 80,
     "metadata": {},
     "output_type": "execute_result"
    }
   ],
   "source": [
    "s"
   ]
  },
  {
   "cell_type": "code",
   "execution_count": null,
   "id": "31c56708",
   "metadata": {},
   "outputs": [],
   "source": []
  }
 ],
 "metadata": {
  "kernelspec": {
   "display_name": "Python 3 (ipykernel)",
   "language": "python",
   "name": "python3"
  },
  "language_info": {
   "codemirror_mode": {
    "name": "ipython",
    "version": 3
   },
   "file_extension": ".py",
   "mimetype": "text/x-python",
   "name": "python",
   "nbconvert_exporter": "python",
   "pygments_lexer": "ipython3",
   "version": "3.9.12"
  }
 },
 "nbformat": 4,
 "nbformat_minor": 5
}
