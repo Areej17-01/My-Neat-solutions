{
 "cells": [
  {
   "cell_type": "markdown",
   "id": "92abd2ad",
   "metadata": {},
   "source": [
    "# Neat code solutions"
   ]
  },
  {
   "cell_type": "markdown",
   "id": "3b5e5bc8",
   "metadata": {},
   "source": [
    "#### in  progess"
   ]
  },
  {
   "cell_type": "markdown",
   "id": "bbd35dd4",
   "metadata": {},
   "source": [
    "## contains duplicate`"
   ]
  },
  {
   "cell_type": "code",
   "execution_count": null,
   "id": "85216df2",
   "metadata": {},
   "outputs": [],
   "source": [
    "class Solution:\n",
    "    def containsDuplicate(self, nums: List[int]) -> bool:\n",
    "        len1=len(nums)\n",
    "        len2=len(set(nums))\n",
    "        if len1==len2:\n",
    "            return(False)\n",
    "        else:\n",
    "            return(True)"
   ]
  },
  {
   "cell_type": "markdown",
   "id": "dd390f95",
   "metadata": {},
   "source": [
    "## anagram"
   ]
  },
  {
   "cell_type": "code",
   "execution_count": 4,
   "id": "3749bad9",
   "metadata": {},
   "outputs": [],
   "source": [
    "dict={}\n",
    "={}\n",
    "word=\"anagram\"\n",
    "word2=\"gramana\""
   ]
  },
  {
   "cell_type": "code",
   "execution_count": 5,
   "id": "d3c6e280",
   "metadata": {},
   "outputs": [],
   "source": [
    "for i,j in zip(word:\n",
    "    if i not in dict:\n",
    "        dict[i]=1\n",
    "    else:\n",
    "        dict[i]+=1"
   ]
  },
  {
   "cell_type": "code",
   "execution_count": 6,
   "id": "9b78581c",
   "metadata": {},
   "outputs": [
    {
     "data": {
      "text/plain": [
       "{'a': 3, 'n': 1, 'g': 1, 'r': 1, 'm': 1}"
      ]
     },
     "execution_count": 6,
     "metadata": {},
     "output_type": "execute_result"
    }
   ],
   "source": [
    "dict"
   ]
  },
  {
   "cell_type": "code",
   "execution_count": 16,
   "id": "48861685",
   "metadata": {},
   "outputs": [],
   "source": [
    "def func(word,word2):\n",
    "    list1=[]\n",
    "    list2=[]\n",
    "    if len(word)==len(word2):\n",
    "        for i,j in zip(word,word2):\n",
    "            list1.append(ord(i))\n",
    "            list2.append(ord(j))\n",
    "        return(sorted(list1)==sorted(list2))\n",
    "    else:\n",
    "        return(False)"
   ]
  },
  {
   "cell_type": "code",
   "execution_count": 18,
   "id": "1d9cb913",
   "metadata": {},
   "outputs": [
    {
     "data": {
      "text/plain": [
       "False"
      ]
     },
     "execution_count": 18,
     "metadata": {},
     "output_type": "execute_result"
    }
   ],
   "source": [
    "func(\"anagrmn\",\"gramana\")"
   ]
  },
  {
   "cell_type": "code",
   "execution_count": 10,
   "id": "a27314bf",
   "metadata": {},
   "outputs": [
    {
     "data": {
      "text/plain": [
       "False"
      ]
     },
     "execution_count": 10,
     "metadata": {},
     "output_type": "execute_result"
    }
   ],
   "source": [
    "list1=[12,2,2]\n",
    "list2=[2,2,12]\n",
    "sorted(list1)!=sorted(list2)"
   ]
  },
  {
   "cell_type": "code",
   "execution_count": 27,
   "id": "a11c6193",
   "metadata": {},
   "outputs": [],
   "source": [
    "def func(s,t):\n",
    "    dict1={}\n",
    "    for i in s:\n",
    "        if i not in dict1:\n",
    "            dict1[i]=1\n",
    "        else:\n",
    "            dict1[i]+=1\n",
    "    n=0\n",
    "    for i in t:\n",
    "        if i in dict1:\n",
    "            n+=1\n",
    "    "
   ]
  },
  {
   "cell_type": "code",
   "execution_count": 26,
   "id": "98c0cbc2",
   "metadata": {},
   "outputs": [
    {
     "name": "stdout",
     "output_type": "stream",
     "text": [
      "{'a': 3, 'n': 1, 'g': 1, 'r': 1, 'm': 1} {'g': 1, 'r': 1, 'a': 3, 'm': 1, 'n': 1}\n"
     ]
    },
    {
     "data": {
      "text/plain": [
       "True"
      ]
     },
     "execution_count": 26,
     "metadata": {},
     "output_type": "execute_result"
    }
   ],
   "source": [
    "func(\"anagrma\",\"gramana\")"
   ]
  },
  {
   "cell_type": "markdown",
   "id": "fd6f0117",
   "metadata": {},
   "source": [
    "### addition of two num"
   ]
  },
  {
   "cell_type": "code",
   "execution_count": 283,
   "id": "b1f7db2d",
   "metadata": {},
   "outputs": [
    {
     "data": {
      "text/plain": [
       "[2, 7, 11, 15]"
      ]
     },
     "execution_count": 283,
     "metadata": {},
     "output_type": "execute_result"
    }
   ],
   "source": [
    "arr"
   ]
  },
  {
   "cell_type": "code",
   "execution_count": 376,
   "id": "1241ca7a",
   "metadata": {},
   "outputs": [],
   "source": [
    "def func(nums,target):\n",
    "    list=[]\n",
    "    for i,j in enumerate(nums):\n",
    "        if len(list) != 0:\n",
    "            return(list[0])\n",
    "            break;\n",
    "        else:\n",
    "            track=0\n",
    "            for k in nums[i+1:]:\n",
    "                temp=0\n",
    "                temp=j+k\n",
    "                if temp==target:\n",
    "                    list.append([i,track+1+i])\n",
    "                    break;\n",
    "               \n",
    "                track+=1\n",
    "            print(track)\n"
   ]
  },
  {
   "cell_type": "code",
   "execution_count": 381,
   "id": "43e73753",
   "metadata": {},
   "outputs": [
    {
     "name": "stdout",
     "output_type": "stream",
     "text": [
      "3\n",
      "0\n"
     ]
    },
    {
     "data": {
      "text/plain": [
       "[1, 2]"
      ]
     },
     "execution_count": 381,
     "metadata": {},
     "output_type": "execute_result"
    }
   ],
   "source": [
    "func([7,0,0,11],0)"
   ]
  },
  {
   "cell_type": "code",
   "execution_count": 38,
   "id": "0f7941b4",
   "metadata": {},
   "outputs": [],
   "source": [
    "def twoSum(nums,target):        \n",
    "    for i,j in enumerate(nums):\n",
    "        if (target-j) in nums and nums.index(target-j)!=i:\n",
    "            return[i,nums.index(target-j)]\n",
    "            break;"
   ]
  },
  {
   "cell_type": "code",
   "execution_count": 39,
   "id": "747e36e7",
   "metadata": {},
   "outputs": [
    {
     "data": {
      "text/plain": [
       "[0, 3]"
      ]
     },
     "execution_count": 39,
     "metadata": {},
     "output_type": "execute_result"
    }
   ],
   "source": [
    "twoSum([7,0,0,11],18)"
   ]
  },
  {
   "cell_type": "markdown",
   "id": "51bf243e",
   "metadata": {},
   "source": [
    "# group anagrams"
   ]
  },
  {
   "cell_type": "code",
   "execution_count": null,
   "id": "c9d4da40",
   "metadata": {},
   "outputs": [],
   "source": [
    "#strategy\n",
    "#create seperate dictionaries "
   ]
  },
  {
   "cell_type": "code",
   "execution_count": 40,
   "id": "c561e9f9",
   "metadata": {},
   "outputs": [],
   "source": [
    "strs = [\"eat\",\"tea\",\"tan\",\"ate\",\"nat\",\"bat\"]"
   ]
  },
  {
   "cell_type": "code",
   "execution_count": 115,
   "id": "8ccf07a3",
   "metadata": {},
   "outputs": [
    {
     "name": "stdout",
     "output_type": "stream",
     "text": [
      "0\n",
      "0\n",
      "1\n"
     ]
    }
   ],
   "source": [
    "dict={}\n",
    "list=[]\n",
    "dict1={}\n",
    "count=0\n",
    "for i in strs:\n",
    "    a=sorted(i)\n",
    "    temp=\"\".join(a)\n",
    "    if str([temp]) not in  dict:\n",
    "        dict[str([temp])]=count\n",
    "        count+=1\n",
    "    else:\n",
    "        value= dict[str([temp])]\n",
    "        print(value)\n",
    "        \n",
    "    \n",
    "    "
   ]
  },
  {
   "cell_type": "code",
   "execution_count": 97,
   "id": "8a1085bc",
   "metadata": {},
   "outputs": [
    {
     "data": {
      "text/plain": [
       "{\"['aet']\": 0, \"['ant']\": 1, \"['abt']\": 2}"
      ]
     },
     "execution_count": 97,
     "metadata": {},
     "output_type": "execute_result"
    }
   ],
   "source": [
    "dict"
   ]
  },
  {
   "cell_type": "code",
   "execution_count": 94,
   "id": "b707f0ab",
   "metadata": {},
   "outputs": [
    {
     "data": {
      "text/plain": [
       "\"'aet']\""
      ]
     },
     "execution_count": 94,
     "metadata": {},
     "output_type": "execute_result"
    }
   ],
   "source": [
    "\"['aet']\""
   ]
  },
  {
   "cell_type": "code",
   "execution_count": 101,
   "id": "494c6326",
   "metadata": {},
   "outputs": [
    {
     "data": {
      "text/plain": [
       "dict_values([0, 1, 2])"
      ]
     },
     "execution_count": 101,
     "metadata": {},
     "output_type": "execute_result"
    }
   ],
   "source": [
    "dict.values()"
   ]
  },
  {
   "cell_type": "code",
   "execution_count": 150,
   "id": "10922f9a",
   "metadata": {},
   "outputs": [
    {
     "name": "stdout",
     "output_type": "stream",
     "text": [
      "j\n",
      "j\n",
      "j\n"
     ]
    }
   ],
   "source": [
    "dict={}\n",
    "list=[]\n",
    "dict1={}\n",
    "count=0\n",
    "for i in strs:\n",
    "    a=sorted(i)\n",
    "    temp=\"\".join(a)\n",
    "    if [temp] not in  dict.values():\n",
    "        print(\"j\")\n",
    "        dict[count]=[temp]\n",
    "        dict1[count]=[i]\n",
    "        count+=1\n",
    "    else:\n",
    "        pass\n",
    "        \n",
    "    \n",
    "    "
   ]
  },
  {
   "cell_type": "code",
   "execution_count": 151,
   "id": "7934f6a8",
   "metadata": {},
   "outputs": [
    {
     "data": {
      "text/plain": [
       "{0: ['aet'], 1: ['ant'], 2: ['abt']}"
      ]
     },
     "execution_count": 151,
     "metadata": {},
     "output_type": "execute_result"
    }
   ],
   "source": [
    "dict"
   ]
  },
  {
   "cell_type": "code",
   "execution_count": 137,
   "id": "2321b74a",
   "metadata": {},
   "outputs": [
    {
     "name": "stdout",
     "output_type": "stream",
     "text": [
      "0\n",
      "0\n",
      "1\n"
     ]
    }
   ],
   "source": [
    "dict={}\n",
    "list=[]\n",
    "dict1={}\n",
    "count=0\n",
    "for i in strs:\n",
    "    a=sorted(i)\n",
    "    temp=\"\".join(a)\n",
    "    if str([temp]) not in  dict:\n",
    "        dict[str([temp])]=count\n",
    "        count+=1\n",
    "    else:\n",
    "        \n",
    "        value= dict[str([temp])]\n",
    "        print(value)\n",
    "        \n",
    "    \n",
    "    "
   ]
  },
  {
   "cell_type": "code",
   "execution_count": 138,
   "id": "2dc0b48e",
   "metadata": {},
   "outputs": [
    {
     "data": {
      "text/plain": [
       "{\"['aet']\": 0, \"['ant']\": 1, \"['abt']\": 2}"
      ]
     },
     "execution_count": 138,
     "metadata": {},
     "output_type": "execute_result"
    }
   ],
   "source": [
    "dict"
   ]
  },
  {
   "cell_type": "code",
   "execution_count": null,
   "id": "d847ce43",
   "metadata": {},
   "outputs": [],
   "source": []
  },
  {
   "cell_type": "code",
   "execution_count": null,
   "id": "6c0ae846",
   "metadata": {},
   "outputs": [],
   "source": []
  }
 ],
 "metadata": {
  "kernelspec": {
   "display_name": "Python 3 (ipykernel)",
   "language": "python",
   "name": "python3"
  },
  "language_info": {
   "codemirror_mode": {
    "name": "ipython",
    "version": 3
   },
   "file_extension": ".py",
   "mimetype": "text/x-python",
   "name": "python",
   "nbconvert_exporter": "python",
   "pygments_lexer": "ipython3",
   "version": "3.9.12"
  }
 },
 "nbformat": 4,
 "nbformat_minor": 5
}
