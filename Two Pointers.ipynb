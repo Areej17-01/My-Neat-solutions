{
 "cells": [
  {
   "cell_type": "markdown",
   "id": "4faf9c52",
   "metadata": {},
   "source": [
    "#### 125. Valid Palindrome"
   ]
  },
  {
   "cell_type": "code",
   "execution_count": 56,
   "id": "67cf24bf",
   "metadata": {},
   "outputs": [],
   "source": [
    "s = \"A man, a plan, a canal: Panama\""
   ]
  },
  {
   "cell_type": "code",
   "execution_count": 51,
   "id": "2b2a34b5",
   "metadata": {},
   "outputs": [
    {
     "data": {
      "text/plain": [
       "True"
      ]
     },
     "execution_count": 51,
     "metadata": {},
     "output_type": "execute_result"
    }
   ],
   "source": [
    "s=s.lower()\n",
    "string=\"\"\n",
    "r_str=\"\"\n",
    "for i,j in zip(s,s[::-1]):\n",
    "    if (ord(i)<=122 and ord(i)>=97) or (ord(i)<=57 and ord(i)>=48):\n",
    "        string+=i\n",
    "    if (ord(j)<=122 and ord(j)>=97) or (ord(j)<=57 and ord(j)>=48):\n",
    "        r_str+=j\n",
    "string==r_str"
   ]
  },
  {
   "cell_type": "code",
   "execution_count": 52,
   "id": "5fdbc6bf",
   "metadata": {},
   "outputs": [
    {
     "data": {
      "text/plain": [
       "('0amanaplanacanalpanama0', '0amanaplanacanalpanama0')"
      ]
     },
     "execution_count": 52,
     "metadata": {},
     "output_type": "execute_result"
    }
   ],
   "source": [
    "string,r_str"
   ]
  },
  {
   "cell_type": "markdown",
   "id": "9aff4c99",
   "metadata": {},
   "source": [
    "#### second"
   ]
  },
  {
   "cell_type": "code",
   "execution_count": 70,
   "id": "ebe28768",
   "metadata": {},
   "outputs": [],
   "source": [
    "string=\"\""
   ]
  },
  {
   "cell_type": "code",
   "execution_count": 77,
   "id": "455e76b1",
   "metadata": {},
   "outputs": [],
   "source": [
    "s=\"areej\"\n",
    "for i in s:\n",
    "    if ((ord(i)<=122 and ord(i)>=97) or (ord(i)<=57 and ord(i)>=48)):\n",
    "        string+=i"
   ]
  },
  {
   "cell_type": "code",
   "execution_count": 78,
   "id": "ebedadde",
   "metadata": {},
   "outputs": [
    {
     "name": "stdout",
     "output_type": "stream",
     "text": [
      "False\n"
     ]
    }
   ],
   "source": [
    "s=\"areej\"\n",
    "for i in s:\n",
    "    if ((ord(i)<=122 and ord(i)>=97) or (ord(i)<=57 and ord(i)>=48)):\n",
    "        string+=i\n",
    "for i ,j in zip(string,string[::-1]):\n",
    "    if i != j:\n",
    "        return(False)\n",
    "        break\n",
    "return(True)"
   ]
  },
  {
   "cell_type": "markdown",
   "id": "8089347c",
   "metadata": {},
   "source": [
    "### third"
   ]
  },
  {
   "cell_type": "code",
   "execution_count": 92,
   "id": "1128438f",
   "metadata": {},
   "outputs": [
    {
     "name": "stdout",
     "output_type": "stream",
     "text": [
      "a\n",
      "____\n",
      "a\n",
      "m\n",
      "m\n",
      "____\n",
      "a\n",
      "a\n",
      "____\n",
      "n\n",
      "n\n",
      "____\n",
      "a\n",
      "p\n",
      "a\n",
      "____\n",
      "l\n",
      "p\n",
      "____\n",
      "a\n",
      "l\n",
      "____\n",
      "n\n",
      "a\n",
      "____\n",
      "a\n",
      "n\n",
      "____\n",
      "c\n",
      "a\n",
      "a\n",
      "____\n",
      "c\n",
      "____\n",
      "n\n",
      "a\n",
      "____\n",
      "a\n",
      "n\n",
      "____\n",
      "l\n",
      "a\n",
      "____\n",
      "p\n",
      "l\n",
      "____\n",
      "a\n",
      "p\n",
      "____\n",
      "a\n",
      "____\n",
      "n\n",
      "n\n",
      "____\n",
      "a\n",
      "a\n",
      "____\n",
      "m\n",
      "m\n",
      "____\n",
      "a\n",
      "____\n",
      "a\n"
     ]
    },
    {
     "data": {
      "text/plain": [
       "True"
      ]
     },
     "execution_count": 92,
     "metadata": {},
     "output_type": "execute_result"
    }
   ],
   "source": [
    "s = \"A man, a plan, a canal: Panama\"\n",
    "s=s.lower()\n",
    "string=\"\"\n",
    "r_str=\"\"\n",
    "\n",
    "for i,j in zip(s,s[::-1]):\n",
    "    if (ord(i)<=122 and ord(i)>=97) or (ord(i)<=57 and ord(i)>=48):\n",
    "        string+=i\n",
    "        print(i)\n",
    "        print(\"____\")\n",
    "    if (ord(j)<=122 and ord(j)>=97) or (ord(j)<=57 and ord(j)>=48):\n",
    "        r_str+=j\n",
    "        print(j)\n",
    "    else:\n",
    "        if string != r_str:\n",
    "            pass\n",
    "string==r_str"
   ]
  },
  {
   "cell_type": "code",
   "execution_count": 80,
   "id": "a42cce55",
   "metadata": {},
   "outputs": [
    {
     "data": {
      "text/plain": [
       "'areej'"
      ]
     },
     "execution_count": 80,
     "metadata": {},
     "output_type": "execute_result"
    }
   ],
   "source": [
    "s"
   ]
  },
  {
   "cell_type": "code",
   "execution_count": 89,
   "id": "b49a7e98",
   "metadata": {},
   "outputs": [
    {
     "name": "stdout",
     "output_type": "stream",
     "text": [
      "a\n",
      "m\n",
      "a\n",
      "n\n",
      "a\n",
      "l\n",
      "a\n",
      "n\n",
      "a\n",
      "c\n",
      "a\n",
      "n\n",
      "a\n",
      "l\n",
      "p\n",
      "a\n",
      "n\n",
      "a\n",
      "m\n"
     ]
    }
   ],
   "source": [
    "s=\"A man, a plan, a canal: Panama\"\n",
    "for i in s[::-1]:\n",
    "    if ((ord(i)<=122 and ord(i)>=97) or (ord(i)<=57 and ord(i)>=48)):\n",
    "        print(i)"
   ]
  },
  {
   "cell_type": "code",
   "execution_count": null,
   "id": "5bf956dc",
   "metadata": {},
   "outputs": [],
   "source": []
  },
  {
   "cell_type": "markdown",
   "id": "d297d01f",
   "metadata": {},
   "source": [
    "## 42. Trapping Rain Water (HARD)"
   ]
  },
  {
   "cell_type": "markdown",
   "id": "920996a9",
   "metadata": {},
   "source": [
    "Input: height = [0,1,0,2,1,0,1,3,2,1,2,1]\n",
    "Output: 6\n",
    "Explanation: The above elevation map (black section) is represented by array [0,1,0,2,1,0,1,3,2,1,2,1]. In this case, 6 units of rain water (blue section) are being trapped."
   ]
  },
  {
   "cell_type": "code",
   "execution_count": null,
   "id": "8aed95d2",
   "metadata": {},
   "outputs": [],
   "source": [
    "agr baad mein bara to pechle valay ke jita water\n",
    "agr pechle mein bara to baad valay ke jita water\n"
   ]
  },
  {
   "cell_type": "code",
   "execution_count": 22,
   "id": "0532b688",
   "metadata": {},
   "outputs": [],
   "source": [
    "\n",
    "arr=[1,0,2,1,0,1,3,2,1,2,1] \n"
   ]
  },
  {
   "cell_type": "code",
   "execution_count": 14,
   "id": "64d75b35",
   "metadata": {},
   "outputs": [
    {
     "name": "stdout",
     "output_type": "stream",
     "text": [
      "[0, 1, 0, 2, 1, 0, 1, 3, 2, 2, 2, 1]\n",
      "1 0\n",
      "[1, 0, 2, 1, 0, 1, 3, 2, 2, 2, 1]\n",
      "2 1\n",
      "[0, 2, 1, 0, 1, 3, 2, 2, 2, 1]\n",
      "2 0\n",
      "[2, 1, 0, 1, 3, 2, 2, 2, 1]\n",
      "3 2\n",
      "[1, 0, 1, 3, 2, 2, 2, 1]\n",
      "3 1\n",
      "[0, 1, 3, 2, 2, 2, 1]\n",
      "1 0\n",
      "[1, 3, 2, 2, 2, 1]\n",
      "3 1\n",
      "[3, 2, 2, 2, 1]\n",
      "[2, 2, 2, 1]\n",
      "[2, 2, 1]\n",
      "[2, 1]\n",
      "[1]\n"
     ]
    }
   ],
   "source": [
    "for i,j in enumerate(arr):\n",
    "    print(arr[i:])\n",
    "    temp=j\n",
    "    for k in arr[i:]:\n",
    "        if k > temp:\n",
    "            if temp <= k:\n",
    "                print(k,j)\n",
    "                break;\n",
    "    "
   ]
  },
  {
   "cell_type": "code",
   "execution_count": 2,
   "id": "0f726657",
   "metadata": {},
   "outputs": [],
   "source": [
    "\n",
    "arr=[1,0,2,1,0,1,3,2,1,2,1] \n"
   ]
  },
  {
   "cell_type": "code",
   "execution_count": 17,
   "id": "de1c3215",
   "metadata": {},
   "outputs": [
    {
     "name": "stdout",
     "output_type": "stream",
     "text": [
      "1\n",
      "0\n",
      "2\n",
      "1\n",
      "2\n"
     ]
    }
   ],
   "source": [
    "drop=0\n",
    "list=[]\n",
    "loop=0\n",
    "for i,j in enumerate(arr):\n",
    "   # print(arr[i:])\n",
    "    temp=j\n",
    "    if i not in list:\n",
    "        for k,l in enumerate(arr[i+1:]):\n",
    "            if temp <= l:\n",
    "                break;\n",
    "            else:\n",
    "                list.append(k+loop)\n",
    "                drop+=temp-k\n",
    "    \n",
    "    loop+=1\n",
    "    "
   ]
  },
  {
   "cell_type": "code",
   "execution_count": 55,
   "id": "561d97ee",
   "metadata": {},
   "outputs": [
    {
     "name": "stdout",
     "output_type": "stream",
     "text": [
      "9\n",
      "0\n"
     ]
    }
   ],
   "source": [
    "\n",
    "arr=[4,2,0,3,2,5] \n",
    "final_drop=0\n",
    "drop=0\n",
    "list=[]\n",
    "loop=0\n",
    "for i,j in enumerate(arr):\n",
    "    #print(arr[i+1:])\n",
    "    list2=[]\n",
    "    \n",
    "    drop=0\n",
    "    loop+=1\n",
    "    temp=j\n",
    "    if i not in list:\n",
    "        for k,l in enumerate(arr[i+1:]):\n",
    "            \n",
    "            if temp <= l:\n",
    "                break;\n",
    "            else:\n",
    "                if k == len(arr[i+1:])-1:\n",
    "                    print(k)\n",
    "                    list2=[]\n",
    "                    drop=0\n",
    "                else:\n",
    "                    #print(k+loop,arr[i+1:],temp)\n",
    "                    list2.append(k+loop)\n",
    "                    drop+=(temp-l)\n",
    "                    #print(drop)\n",
    "        print(drop)\n",
    "        final_drop+=drop\n",
    "        list.extend(list2)"
   ]
  },
  {
   "cell_type": "code",
   "execution_count": 56,
   "id": "49b0445a",
   "metadata": {},
   "outputs": [
    {
     "data": {
      "text/plain": [
       "([1, 2, 3, 4], 9)"
      ]
     },
     "execution_count": 56,
     "metadata": {},
     "output_type": "execute_result"
    }
   ],
   "source": [
    "list,final_drop"
   ]
  },
  {
   "cell_type": "code",
   "execution_count": 32,
   "id": "ed250da0",
   "metadata": {},
   "outputs": [
    {
     "data": {
      "text/plain": [
       "11"
      ]
     },
     "execution_count": 32,
     "metadata": {},
     "output_type": "execute_result"
    }
   ],
   "source": [
    "drop"
   ]
  },
  {
   "cell_type": "code",
   "execution_count": null,
   "id": "494d6852",
   "metadata": {},
   "outputs": [],
   "source": []
  }
 ],
 "metadata": {
  "kernelspec": {
   "display_name": "Python 3 (ipykernel)",
   "language": "python",
   "name": "python3"
  },
  "language_info": {
   "codemirror_mode": {
    "name": "ipython",
    "version": 3
   },
   "file_extension": ".py",
   "mimetype": "text/x-python",
   "name": "python",
   "nbconvert_exporter": "python",
   "pygments_lexer": "ipython3",
   "version": "3.9.12"
  }
 },
 "nbformat": 4,
 "nbformat_minor": 5
}
